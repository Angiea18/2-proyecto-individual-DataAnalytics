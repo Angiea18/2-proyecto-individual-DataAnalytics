{
 "cells": [
  {
   "cell_type": "markdown",
   "metadata": {},
   "source": [
    "## Importamos las librerias"
   ]
  },
  {
   "cell_type": "code",
   "execution_count": null,
   "metadata": {},
   "outputs": [],
   "source": [
    "import requests\n",
    "import pandas as pd\n",
    "from datetime import datetime"
   ]
  },
  {
   "cell_type": "markdown",
   "metadata": {},
   "source": [
    "- Creamos la función **`get_stablecoin_historical_data`** para hacer la solicitud a la *API de Coingecko* y extraer la información de las monedas estables seleccionadas, por un período de 14 días, a partir del 01-08-2023 hasta el 15-08-2023."
   ]
  },
  {
   "cell_type": "code",
   "execution_count": 1,
   "metadata": {},
   "outputs": [],
   "source": [
    "def get_stablecoin_historical_data(id, days):\n",
    "    history_endpoint = f\"https://api.coingecko.com/api/v3/coins/{id}/market_chart\"\n",
    "    history_params = {\n",
    "        \"vs_currency\": \"usd\",\n",
    "        \"days\": days,\n",
    "        \"interval\": \"daily\"\n",
    "    }\n",
    "    \n",
    "    history_response = requests.get(history_endpoint, params=history_params)\n",
    "    \n",
    "    if history_response.status_code == 200:\n",
    "        history_data = history_response.json()\n",
    "        timestamps = [entry[0] for entry in history_data[\"prices\"]]\n",
    "        prices = [entry[1] for entry in history_data[\"prices\"]]\n",
    "        market_caps = [entry[1] for entry in history_data[\"market_caps\"]]\n",
    "        total_volumes = [entry[1] for entry in history_data[\"total_volumes\"]]\n",
    "        \n",
    "        dates = [datetime.fromtimestamp(ts / 1000).strftime('%Y-%m-%d') for ts in timestamps]\n",
    "        \n",
    "        df_historical = pd.DataFrame({\n",
    "            \"Date\": dates,\n",
    "            \"Price\": prices,\n",
    "            \"MarketCap\": market_caps,\n",
    "            \"TotalVolume\": total_volumes,\n",
    "            \"Stablecoin\": [id] * len(timestamps)\n",
    "        })\n",
    "        \n",
    "        return df_historical\n",
    "    else:\n",
    "        print(f\"Error al obtener los datos históricos para {id}. Detalles del error:\")\n",
    "        print(history_response.text)\n",
    "        return None\n",
    "\n",
    "stable = [\"tether\", \"usd-coin\", \"dai\", \"true-usd\", \"binance-usd\", \"frax\", \"usdd\", \"paxos-standard\"]\n",
    "\n",
    "days = \"14\"  "
   ]
  },
  {
   "cell_type": "markdown",
   "metadata": {},
   "source": [
    "- Se crea el DataFrame **df_stable**"
   ]
  },
  {
   "cell_type": "code",
   "execution_count": 2,
   "metadata": {},
   "outputs": [],
   "source": [
    "df_stable = pd.DataFrame()\n",
    "for symbol in stable:\n",
    "    df_symbol = get_stablecoin_historical_data(id=symbol, days=days)\n",
    "    if df_symbol is not None:\n",
    "        df_stable = pd.concat([df_stable, df_symbol], ignore_index=True)"
   ]
  },
  {
   "cell_type": "markdown",
   "metadata": {},
   "source": [
    "- Se observa el contenido del DataFrame."
   ]
  },
  {
   "cell_type": "code",
   "execution_count": 4,
   "metadata": {},
   "outputs": [
    {
     "data": {
      "text/html": [
       "<div>\n",
       "<style scoped>\n",
       "    .dataframe tbody tr th:only-of-type {\n",
       "        vertical-align: middle;\n",
       "    }\n",
       "\n",
       "    .dataframe tbody tr th {\n",
       "        vertical-align: top;\n",
       "    }\n",
       "\n",
       "    .dataframe thead th {\n",
       "        text-align: right;\n",
       "    }\n",
       "</style>\n",
       "<table border=\"1\" class=\"dataframe\">\n",
       "  <thead>\n",
       "    <tr style=\"text-align: right;\">\n",
       "      <th></th>\n",
       "      <th>Date</th>\n",
       "      <th>Price</th>\n",
       "      <th>MarketCap</th>\n",
       "      <th>TotalVolume</th>\n",
       "      <th>Stablecoin</th>\n",
       "    </tr>\n",
       "  </thead>\n",
       "  <tbody>\n",
       "    <tr>\n",
       "      <th>0</th>\n",
       "      <td>2023-08-01</td>\n",
       "      <td>0.999942</td>\n",
       "      <td>8.381631e+10</td>\n",
       "      <td>2.537704e+10</td>\n",
       "      <td>tether</td>\n",
       "    </tr>\n",
       "    <tr>\n",
       "      <th>1</th>\n",
       "      <td>2023-08-02</td>\n",
       "      <td>0.999242</td>\n",
       "      <td>8.388853e+10</td>\n",
       "      <td>2.364385e+10</td>\n",
       "      <td>tether</td>\n",
       "    </tr>\n",
       "    <tr>\n",
       "      <th>2</th>\n",
       "      <td>2023-08-03</td>\n",
       "      <td>0.998680</td>\n",
       "      <td>8.384106e+10</td>\n",
       "      <td>1.789421e+10</td>\n",
       "      <td>tether</td>\n",
       "    </tr>\n",
       "    <tr>\n",
       "      <th>3</th>\n",
       "      <td>2023-08-04</td>\n",
       "      <td>0.998912</td>\n",
       "      <td>8.371969e+10</td>\n",
       "      <td>1.129369e+10</td>\n",
       "      <td>tether</td>\n",
       "    </tr>\n",
       "    <tr>\n",
       "      <th>4</th>\n",
       "      <td>2023-08-05</td>\n",
       "      <td>0.998987</td>\n",
       "      <td>8.381698e+10</td>\n",
       "      <td>8.632620e+09</td>\n",
       "      <td>tether</td>\n",
       "    </tr>\n",
       "    <tr>\n",
       "      <th>...</th>\n",
       "      <td>...</td>\n",
       "      <td>...</td>\n",
       "      <td>...</td>\n",
       "      <td>...</td>\n",
       "      <td>...</td>\n",
       "    </tr>\n",
       "    <tr>\n",
       "      <th>115</th>\n",
       "      <td>2023-08-11</td>\n",
       "      <td>0.999782</td>\n",
       "      <td>5.061780e+08</td>\n",
       "      <td>1.544046e+06</td>\n",
       "      <td>paxos-standard</td>\n",
       "    </tr>\n",
       "    <tr>\n",
       "      <th>116</th>\n",
       "      <td>2023-08-12</td>\n",
       "      <td>1.000142</td>\n",
       "      <td>5.061009e+08</td>\n",
       "      <td>3.300889e+06</td>\n",
       "      <td>paxos-standard</td>\n",
       "    </tr>\n",
       "    <tr>\n",
       "      <th>117</th>\n",
       "      <td>2023-08-13</td>\n",
       "      <td>0.999494</td>\n",
       "      <td>5.058950e+08</td>\n",
       "      <td>2.275614e+06</td>\n",
       "      <td>paxos-standard</td>\n",
       "    </tr>\n",
       "    <tr>\n",
       "      <th>118</th>\n",
       "      <td>2023-08-14</td>\n",
       "      <td>0.999690</td>\n",
       "      <td>5.060368e+08</td>\n",
       "      <td>2.246954e+06</td>\n",
       "      <td>paxos-standard</td>\n",
       "    </tr>\n",
       "    <tr>\n",
       "      <th>119</th>\n",
       "      <td>2023-08-15</td>\n",
       "      <td>0.998817</td>\n",
       "      <td>5.056111e+08</td>\n",
       "      <td>3.221966e+06</td>\n",
       "      <td>paxos-standard</td>\n",
       "    </tr>\n",
       "  </tbody>\n",
       "</table>\n",
       "<p>120 rows × 5 columns</p>\n",
       "</div>"
      ],
      "text/plain": [
       "           Date     Price     MarketCap   TotalVolume      Stablecoin\n",
       "0    2023-08-01  0.999942  8.381631e+10  2.537704e+10          tether\n",
       "1    2023-08-02  0.999242  8.388853e+10  2.364385e+10          tether\n",
       "2    2023-08-03  0.998680  8.384106e+10  1.789421e+10          tether\n",
       "3    2023-08-04  0.998912  8.371969e+10  1.129369e+10          tether\n",
       "4    2023-08-05  0.998987  8.381698e+10  8.632620e+09          tether\n",
       "..          ...       ...           ...           ...             ...\n",
       "115  2023-08-11  0.999782  5.061780e+08  1.544046e+06  paxos-standard\n",
       "116  2023-08-12  1.000142  5.061009e+08  3.300889e+06  paxos-standard\n",
       "117  2023-08-13  0.999494  5.058950e+08  2.275614e+06  paxos-standard\n",
       "118  2023-08-14  0.999690  5.060368e+08  2.246954e+06  paxos-standard\n",
       "119  2023-08-15  0.998817  5.056111e+08  3.221966e+06  paxos-standard\n",
       "\n",
       "[120 rows x 5 columns]"
      ]
     },
     "execution_count": 4,
     "metadata": {},
     "output_type": "execute_result"
    }
   ],
   "source": [
    "df_stable"
   ]
  },
  {
   "cell_type": "markdown",
   "metadata": {},
   "source": [
    "- Renombramos 'Stablecoin' como 'Currency' para que sea más fácil unir después con el otro dataframe."
   ]
  },
  {
   "cell_type": "code",
   "execution_count": 5,
   "metadata": {},
   "outputs": [],
   "source": [
    "df_stable.rename(columns={'Stablecoin': 'Currency'}, inplace=True)"
   ]
  },
  {
   "cell_type": "markdown",
   "metadata": {},
   "source": [
    "- Guardarmos DataFrame en un archivo CSV llamado **stable_data2.csv**"
   ]
  },
  {
   "cell_type": "code",
   "execution_count": 7,
   "metadata": {},
   "outputs": [],
   "source": [
    "df_stable.to_csv(\"stable_data2.csv\", index=False)"
   ]
  }
 ],
 "metadata": {
  "kernelspec": {
   "display_name": "Python 3",
   "language": "python",
   "name": "python3"
  },
  "language_info": {
   "codemirror_mode": {
    "name": "ipython",
    "version": 3
   },
   "file_extension": ".py",
   "mimetype": "text/x-python",
   "name": "python",
   "nbconvert_exporter": "python",
   "pygments_lexer": "ipython3",
   "version": "3.10.11"
  },
  "orig_nbformat": 4
 },
 "nbformat": 4,
 "nbformat_minor": 2
}
